{
  "nbformat": 4,
  "nbformat_minor": 0,
  "metadata": {
    "colab": {
      "name": "Naive_Bayes_Classification.ipynb",
      "provenance": []
    },
    "kernelspec": {
      "name": "python3",
      "display_name": "Python 3"
    },
    "language_info": {
      "name": "python"
    }
  },
  "cells": [
    {
      "cell_type": "markdown",
      "source": [
        "\n",
        "**The Multinomial Naive Bayes** \n",
        "\n",
        "method is a common Bayesian learning approach in natural language processing. Using the Bayes theorem, the program estimates the tag of a text, such as an email or a newspaper piece. It assesses the likelihood of each tag for a given sample and returns the tag with the highest possibility.\n",
        "\n",
        "**The Bernoulli Naive Bayes** \n",
        "\n",
        "is a part of the family of Naive Bayes. It only takes binary values. There may be multiple features, but each is assumed to be a binary-valued (Bernoulli, boolean) variable. Therefore, this class requires samples to be represented as binary-valued feature vectors.\n",
        "\n",
        "\n",
        "**The Gaussian Naive Bayes** \n",
        "\n",
        "is a variant of Naive Bayes that follows Gaussian normal distribution and supports continuous data. To build a simple model using Gaussian Naive Bayes, we assume the data is characterized by a Gaussian distribution with no covariance (independent dimensions) between the parameters. This model may be fit simply by calculating the mean and standard deviation of the points within each label."
      ],
      "metadata": {
        "id": "2TpdDdde_z6E"
      }
    },
    {
      "cell_type": "markdown",
      "source": [
        "**Importing modules**"
      ],
      "metadata": {
        "id": "rKqHT6zD3Rpg"
      }
    },
    {
      "cell_type": "code",
      "execution_count": 1,
      "metadata": {
        "id": "0JFF7SGeq2nF"
      },
      "outputs": [],
      "source": [
        "# importing the libraries\n",
        "import numpy as np\n",
        "import matplotlib.pyplot as plt\n",
        "import pandas as pd\n",
        "import seaborn as sns"
      ]
    },
    {
      "cell_type": "markdown",
      "source": [
        "**import the data set and split the data sets into inputs and outputs.**"
      ],
      "metadata": {
        "id": "CAscntH43UXz"
      }
    },
    {
      "cell_type": "code",
      "source": [
        "# importing the dataset\n",
        "dataset = pd.read_csv('NaiveBayes.csv')\n",
        "\n",
        "# split the data into inputs and outputs\n",
        "X = dataset.iloc[:, [0,1]].values\n",
        "y = dataset.iloc[:, 2].values"
      ],
      "metadata": {
        "id": "wu1dXxlB3aMc"
      },
      "execution_count": 2,
      "outputs": []
    },
    {
      "cell_type": "markdown",
      "source": [
        "**divide the input and output values into the training and testing**"
      ],
      "metadata": {
        "id": "iagsTd4o357d"
      }
    },
    {
      "cell_type": "code",
      "source": [
        "# training and testing data\n",
        "from sklearn.model_selection import train_test_split\n",
        "\n",
        "# assign test data size 25%\n",
        "X_train, X_test, y_train, y_test =train_test_split(X,y,test_size= 0.25, random_state=0)\n"
      ],
      "metadata": {
        "id": "NnAOIEII4BjI"
      },
      "execution_count": 3,
      "outputs": []
    },
    {
      "cell_type": "markdown",
      "source": [
        "**scale our dataset to be ready to be used for the training.**"
      ],
      "metadata": {
        "id": "8wPR7LeO4V5I"
      }
    },
    {
      "cell_type": "markdown",
      "source": [
        "Note: scaling (or standardization) of a dataset is a common requirement for many machine learning estimators: they might behave badly if the individual features do not more or less look like standard normally distributed data."
      ],
      "metadata": {
        "id": "q_J_ZN244WVU"
      }
    },
    {
      "cell_type": "markdown",
      "source": [
        "# Training the model using Bernolli Naive Bayes classifier"
      ],
      "metadata": {
        "id": "zrRX5Ux24kjQ"
      }
    },
    {
      "cell_type": "code",
      "source": [
        "# importing classifier\n",
        "from sklearn.naive_bayes import BernoulliNB\n",
        "\n",
        "# initializaing the NB\n",
        "classifer = BernoulliNB()\n",
        "\n",
        "# training the model\n",
        "classifer.fit(X_train, y_train)\n",
        "\n",
        "# testing the model\n",
        "y_pred = classifer.predict(X_test)"
      ],
      "metadata": {
        "id": "oAuyBAmt4fwS"
      },
      "execution_count": 4,
      "outputs": []
    },
    {
      "cell_type": "markdown",
      "source": [
        "**accuracy of the predicted values using the Bernoulli Naive Bayes classifier.**"
      ],
      "metadata": {
        "id": "PjK8gTD94pxf"
      }
    },
    {
      "cell_type": "code",
      "source": [
        "# importing accuracy score\n",
        "from sklearn.metrics import accuracy_score\n",
        "\n",
        "# printing the accuracy of the model\n",
        "print(accuracy_score(y_pred, y_test))"
      ],
      "metadata": {
        "colab": {
          "base_uri": "https://localhost:8080/"
        },
        "id": "u2vkayml5Efd",
        "outputId": "2492f8b2-8dfd-473f-d2b5-293440f272c4"
      },
      "execution_count": 5,
      "outputs": [
        {
          "output_type": "stream",
          "name": "stdout",
          "text": [
            "0.68\n"
          ]
        }
      ]
    },
    {
      "cell_type": "markdown",
      "source": [
        "# Training model using Gaussian Naive Bayes Classifier"
      ],
      "metadata": {
        "id": "fkXI_PV05RI-"
      }
    },
    {
      "cell_type": "code",
      "source": [
        "# import Gaussian Naive Bayes classifier\n",
        "from sklearn.naive_bayes import GaussianNB\n",
        "\n",
        "# create a Gaussian Classifier\n",
        "classifer1 = GaussianNB()\n",
        "\n",
        "# training the model\n",
        "classifer1.fit(X_train, y_train)\n",
        "\n",
        "# testing the model\n",
        "y_pred1 = classifer1.predict(X_test)"
      ],
      "metadata": {
        "id": "FC8WHbuS5TBS"
      },
      "execution_count": 6,
      "outputs": []
    },
    {
      "cell_type": "markdown",
      "source": [
        "**accuracy of our model**"
      ],
      "metadata": {
        "id": "P5wF9YUJ5X1z"
      }
    },
    {
      "cell_type": "code",
      "source": [
        "# importing accuracy score\n",
        "from sklearn.metrics import accuracy_score\n",
        "\n",
        "# printing the accuracy of the model\n",
        "print(accuracy_score(y_test,y_pred1))"
      ],
      "metadata": {
        "colab": {
          "base_uri": "https://localhost:8080/"
        },
        "id": "_qGdN8Re5cAM",
        "outputId": "093cc06a-a54a-41a0-e1a5-c86c8b7dd9ae"
      },
      "execution_count": 7,
      "outputs": [
        {
          "output_type": "stream",
          "name": "stdout",
          "text": [
            "0.9\n"
          ]
        }
      ]
    },
    {
      "cell_type": "markdown",
      "source": [
        "# Evaluating Naive Bayes Classification performance"
      ],
      "metadata": {
        "id": "uw2cQKct5mLv"
      }
    },
    {
      "cell_type": "markdown",
      "source": [
        "**Confusion Matrix for Binary classification**"
      ],
      "metadata": {
        "id": "OebG47f65st9"
      }
    },
    {
      "cell_type": "markdown",
      "source": [
        "Confusion Matrix is also known as error matrix. It is a table layout that allows visualization of the performance of a classification algorithm. Each row of the matrix represents the instances in an actual class, while each column represents the instances in a predicted class, or vice versa.\n",
        "\n",
        "\n",
        "\n",
        "![image.png](data:image/png;base64,iVBORw0KGgoAAAANSUhEUgAAAmYAAAD6CAIAAACEdRzMAAAAAXNSR0IArs4c6QAAAERlWElmTU0AKgAAAAgAAYdpAAQAAAABAAAAGgAAAAAAA6ABAAMAAAABAAEAAKACAAQAAAABAAACZqADAAQAAAABAAAA+gAAAACQZbx0AABAAElEQVR4Ae1dB4AURdaujpM2sixRFDBhwAxGxIDp9E48xTPnU0E9f8OZxXB6eHp6KuZw5jMnznwGxJwwYUIxoJLZPKnj/73qmdkhKeAuk17RzPRUV1e/91Vvff1evapWfN8XnBgBRoARYAQYAUbg1xBQf60AH2cEGAFGgBFgBBgBQoApk+8DRoARYAQYAUZguRBgylwumLgQI8AIMAKMACPAlMn3ACPACDACjAAjsFwIMGUuF0xciBFgBBgBRoARYMrke4ARYAQYAUaAEVguBJgylwsmLsQIMAKMACPACDBl8j3ACDACjAAjwAgsFwJMmcsFExdiBBgBRoARYASYMvkeYAQYAUaAEWAElgsBpszlgokLMQKMACPACDACTJl8DzACjAAjwAgwAsuFAFPmcsHEhRgBRoARYAQYAaZMvgcYAUaAEWAEGIHlQoApc7lg4kKMACPACDACjABTJt8DjAAjwAgwAozAciHAlLlcMHEhRoARYAQYAUaAKZPvAUaAEWAEGAFGYLkQYMpcLpi4ECPACDACjAAjoDMEjAAjsOoR8OQlgyfW/P0ulsTPq0/J2+ddRoARWCkE2MpcKdj4JEaAEWAEGIHKQ4CtzMpr8wrW2BNk0an4t/QU2HvBsWWVWfqZK5SLywTmH3aW4zKBVMtRcFlC4GI5EzO4cO7nsk7hfEaAEVgaAkyZS0OF88oPgXzakNotmx7piCe5TM0jmCy95c4jDpM/6COfhoMSOYrDz6AaDeXknqoIV2BzTKIy7JrIBp2r+PDz/iQXITaqNVtzUHfwS148uAA+FWRaQlE9YeJaCjZUQpm4tLoEcWZrwKEgySsGudmszBH+YgQYASDAfxd8G1QAAj6RjRfwCtTFT5/IC2SF/NzfgKQKRfhEMpLS8I1SudOCM3FE9RzLslMSON8VLrZsscXKUxFUmxbCkaVzlYE+VcqL44iDw0KkrDZZyqEyOCdTU4ZJkYU9XzhSleBqjgd2lJoJ3xOuT5tvC69ZiGQyKYiYPeFYoGFbblLhgIZJJ1wDAgSbNL+RIb/zdKCLIjubZInsD/5mBCoQgVx3UYG6s8oViICaueMVsrgMIWDTOa6wwViu8HPGlgSGyAVUlEcglC0rUPWwYoTBkyBVIli5Qx+0q+AS+X9XwU8iKfqfKQ2W1Klwy9zpU1frO+ihB16MmlVChDIWYVAY5TN8RfWRDSo8BZ/Il4YjmbawSmGdYgeCaApd2Gt+9I6Jg9fa6KcFQteFHqJzKQVXp3ODLUeFwEAayVINGNbZAyBv7Oadjl+ykmyBoF7+ZAQqCIHs30MFqcyqVh4Ckkpwr8vbnfyTsPBU0SRE01nH/rl/Tb+f54qEQ4xDJqakvIBNyZmZTZm9hD3prv/MiTsdkj6QqQsDG0rlEUnGRqVT4eH1RBi+V+yjflkLStouDETwT6q5db6i6qpW5RF9g7chnvQKozDKER3KE8lhq0rb1BMKTEMcA4eaZN8GJm5QuZWALBHN0YRi40EAF0qkpMcXp5NyVCU2BRYqzEfy33q+6irCxoZfhADJSAU9okx5eSkphMUvFIZZLHA6J0agEhHI/EVUouqsc0UhADJAQr+fsaLgVm0TftsLTz5hJ9KTnpwMW5O4hxglGPqT3BJYmcG5wektbePPvWD2rPkpODuDHJwF/2fmbKpBOAnhgRGDGuRFwUu+9AXLPJyhaeBQul5DQ62qhnStSv4pgtiwQQTQnYNveY3AKJT78lpUM3iNdMk6UnGOIlraUsKE0dlhW4l0MhWoYURDZIn64FCY0bTJk8F+cPN2jtWqIqWSmzdgS9QN5sYliF6lYDBtMyzpCh3sLquh4pwYgYpCgCmzopq7gpUN+nj5KT2biJJpe/qOm1J2fPTofW6+5jozYARph0mOwoAgDCoblhiOEFXhW1Emv/F6S3uL6do9DPLoklnWlhQuypF3l5KbFl6LUGl8Mu1jhNISfkK4raJtjmidh0z8yeE8UJcnbdO2thbX8VxbyQy1okIFrNkhYMfiG1Qsk4VqkQ+3cMoGY0Es4rB0XKTSZMCCEBVRHQpDEjC+oqmqHiKXMa4VbxKGQmyoYmjTxXVdG/8x/ArxPRvOaNjcTkKzWjRBo7OgXjAvku0YQoX1jNHWDpGM++k05IFGuDwqJvaVNJplUjqFEyNQ9ggwZZZ9E7OCWQTAl3KzbMtOJ4QZvv/u/6y3+WZ7H7jvd1989NOXzYFJR85H7Hli7rQvjh49Zt2+q2uKsf4GGz388MP/uHD8AfvvO69twYYbrBMO9VpnyLapFvHFO28NrKn54OMvwS2UNATgtB6+63Z77XYAom/CYRMROJ+99trxhx42dMP1azVj3YEbTRg/0SA7DlznVFVV+Z7i+9iISjvInQrKSl150fkDa9dfOI/IKW2nTM0Qdse1Z140qG61efOakDnt3TcP3m/vDTZYu0aPDhm88aUXXA1PqtDqhWLoIdN1fPhPwZiul1q9Zo3bb7wXOmma73m+oSgTz79wcH2vZCLlU5xTC0j95ecm77DVrmEz1qfXmqccf2p7mzAMxSVbN/3ik4/sMGpUrGdjfUOPkTvudMklExNJqSl/MAKVhwBTZuW1eWVqnGdlRo2QEaqJf/LDtE9+3O3gg4fvtsOgBvPJO64BiSHwVIW56FkdUz/ZY4edZ85PnfW3y/9z63UH/H7H+h61hx959J03TawRYtJL/3vvu+lPPvVIuEroTiqKSR2OHoKJBmzbYUq2+ekWK6WBA1NtjghXv/DyB1WNgydce9NLrz5/6N5b3X3V+bdd9ySNZooILL80pSSsuLRlhwyQKZjK2mffPzqJ1P8mvYgwWNMAubb7VnzSM6/vsNN+jbEaU1jPPfN0VV3tRdf8/dmXJx24+3Y3X/a3G295QrJ+tY3aUjYq9Ly4lY4basiDWi6NUJqwODWht6aq06qdSsNUFs7sJ++6/uAjzllrw73++8zLN1x9+YcvPLHfDiMXtuLZQfvitaljDztunWFb/+fZ5++465Y9dx2RTsdJVU6MQEUiANcPJ0agAhAgZ2LgcAWv2cJN3XHPJFup2n63Pc2o/ofdt3rgruvPvfZCT2gqXJG+P27cyb5a/djTL1Q3wnEJ8kkLtQaBL/17NVRF1N6rrbZav7oaUSfituemFEWBYQcQYdeZ1VXwnSJQR/fCFPhTowvLO+Wc80UUsTsYnuzYYvi6r01+7aH7Hx07dm8IpArNNMOGaehhTAtBiKtIJK1opGrwWkO23GTNh++/ef+TRsEiVUT8q48/nP7NvL+cepkWQrCtdfpFFwkFcUXQKr3tVsM+eH3qpIf/d9IJoxWRdn1FN0KmCT+uZhhaKpUig9L2lAhNDYXLtc6MRM2QTa7ekLA6zjvnwkOOumzCP8/ECKypbrZWrbbPmMOfe3bKAWO2f/6pZ6Omcc01V8PRHBXWH/YanfR0uIfJ6Rs8hVCNnBiBSkGArcxKaelK15PCUOUonALjrindPvv2xycP2/Uw+F2rhb3//rt2pJqeePJ9+QjZllwwY/In3x5+ykXVDQqN1SECRpGGlYrjqurLLQiCNQ3H0JqsjniqA3xJVqaIIYQnHGtQHSMcleOWJv7KUsKHNxNk1gF3bK+1Bje3dMhRwEgy5SgYe1RUDD0iQAfnRyMNwqsX4bojDhj58YeTvvyhLUHVOi9OegQBrjvuujXMRNEB5y1IGrYjTFJFmKF+a6yRnG8pCOQ1q+GbjURrEMhLBTzfNHXD1BUdYuBMDNDG076btGk6aLNIv/fGx21xsc/+oyC/grAjr2O9TQYaVfrXX/0IXtxuxxEtrfFLzjo32ZxMWiZifyBjEO1L810gMZnmnRtJyokRKF8EmDLLt21Zs04E0KtLRiPjiPbfnfLqjNkLR+y69+y5rYqdXmvdQdU9G6677vY4OUu9eU2z2ny156BBIAiKxaFpJ5JMwWgUfaqDNUE+9MejwOXpYcKKnPgRXA80piWSjoLoHtSGU1Kpd956///GnT5si+FrrbnOkNVXe/yxZ3C2D4mIw8BiiP2hsUw5mikFhB9ViN+P3rq6xnr4ocdt1NOafOC+B0f9YfdYL3htcab9wSvvHXfI2O233nHDwYM27ht77KkHBcZBoSAsZU9FYA9CfFDMdVOmDlvTkMFGyNFEOIJCIbJsYaRq33z9Uyohtt1yi0goVh2rMkM9eg3Y9If5TTO++RykvsWoncf//ZzHHrpvvYEDzjjpuBnTv41pIkorC1EKIozkLn8wAhWBAP1lcmIEyh4Baf8FH6pIJv59420pJ3XMUQf371MXi/Xot+5W0+fO/+ijjz77cDbMtFTa9dSUq8vI0QAampRB/IdoVWyKpEw6onieigXqMOWRKs/MvXBER0fKM2jJHWG1TPr3NbvtclA81e+WO56d+sHnX7738oF7bKJTrA4SzsKGeCMdFpvcx5AjhQYJzRJrRLbeYeOH7n447IiPXvt6Qau9/3H72bAtvZ+evvfmUTvvb4YHX/HPm196/oUP33x2n102t9wFRNKplJ+yaHkiuJ+dhGMlbDvlpFP0zICET9dMdLR4TqraDFcLo9qowjyU5197b/L7n3/84eefvT/1nfffmjr1nQmXnEgSGaGjT7/4068+ueFfF0x/56mth6x51b8emNdKQjNfSkD5o7IQkM/OlaUya1txCKB/h1UkqYkmRqS+n/vuWx/sO+boA488rlZPRZSU59g//rDw6KPOn/zfJ4cPP6i+56Co7s2d+YUtdsLMxxA5dQGatAixr8CIoz8cWSHG9WjmIgw7HNZwGawz4PsIvxFVKuw8PTn77luvG7zmRtfceC7KV4UtkWr1EunMjEiqAyn/yVVOn4S8iGU1exx4yMH3H3zTrB/cJ56ZklKrNt1qfRWr79nz/33TNQPXGnrZNX+NwQ0s2jHRRfUsEwv9wG7UVXhiTVNFzJCmwyVrup7l+ZbvYbkCLOGQFGasw/YtNdzU1t6zsWa1fr0hRbrd2nT4Go1QK5AFomtQKIloXhCnYoQOOurwg/Yfceb/XXDZ367YZfcDGquRK2XnD0agkhDI/1utJL1Z1wpDIOliHBHmIFHnf/4zCaN3F144fo+dh40cOWL4dqOGbT9izEH7/n6ztZ+49bqOuNnYf+j26w957JZr5jS1OkK13QTowcLmivqGkG8nmud3YD5kEpVpap/GXvUhMevrWTD/yIPrNM2aOeOTL2Y5WL4AP1UN7Fjfv09LEnwJ0NPOzPlvvfOl72kqRjqFb+gRGHyxSIgGGWnCppzkghMV1Bcdsfsfa6MLJk2a+NjLLx124l8jIcw16YAwyXhHj/49fHhYKbnOgraXX/3Ux/IIYDLf9jU75bbptCSRFqmri0bErDnfKCZ+Q5G5ou27Zyd/kDb7qjW1uOYm267fWCeuvuQyjLeSRpADy9ISX8IgDZFG9CME21pUVR10xJhEW6JldgdZwrlN8izpirKcGIGyRoBv8rJuXlYug4BqaBGFuv8Epv8/+PhzO++xz2r9+4ITLHgvYTeqIaHqxx118Jx5M6Z9+h0iYK+8akLTvG/322vXBx954LnnXzrnvPPuuP8J3xR9B/YNVasXjT9t6tsz3nrjG1Tfa52N1lh97UvOPfe9N79qbVv4xutvH/7nE30Ddfq0EkBDn21G7fz668/ce+cDb0159eHbbvz9vof2HzQEl5AjnWYibmGKSirdBjEoYUiTTGK4ZxUbMz1dc69dt7r1xktnt7Tue/DRdQir9VxhhLcatdPkKf+deO0dr7799oP33bvj7n/oO7hfc7wJ5A7TMu2r4ZhhYdEBRLmm3X3H7H733dc9fN+dC+fPnzVr7jHHjvt5QXvaNzsSScTrirqeF//9kjfffP6gvcfce/edjz/19LXX3bLv3n967b33HZGa9OC9fz3h6Lv/c/+UN9956oknzzp/Qn3PquHDg7WKpMD8wQhUFAI+J0ag3BHAmjfYUqlm32/66u2nGs2ayU+95lpeKpVwsRaO59OGhXBa4hv3WO2wg06VeHhfvfPc73fatH/PWESLDtlg2M0PPdlsp/307Ff/e9vGQ/qHFLNfw6bxub7fmpr35Rd/3GNMY8MawjA3G77B/Xdfftpfjttlp6MT7ag5lZr/+V+OOaRvjzow9qZD137nxUfuuXbiFuvt67XiOqlv3n+lb/2QBx94ByJQ8lK+n/D8Dsfv8OFNtRZ8+OJ9vUNi6EY7JD3fpUIo0Dxv9ocnjz2wd88qTD/ZbNjGLz7975v+dfHG6+/ip1Fg7u03nF/Xa53PZsR9CJya5cyddtoxf1x/rQGIAlpt8NoXX3T5Y7f8d+1eQ39os4AIKW+1T33luT+O2qlnVT1Ytu+AzQ457sxvF5J8H7/59C7D1hnYt7cmtIYejfuOOXDqp99BCuDJiRGoQAQQp0e+GE6MQAUggHdnzcYEECF6kNMRrkeK2cH9r9GQInJowoZme6oSwYAgYn8wCwNeSswwqQvCTVEU8yPpgw5VCZdcn5RouVZaIoB2ybWaTCXdcKQaka60CIHAinpYdVZJe5FQKOKlm9VQfWYQ00dUDl7TVY/6kzYWO49XYc6lXPQcNarCoAmQqXnCrLH8mKLBRywUDQ5frLoOUdPJ1vZI7Rrw5moYzhThRMKIQjm1Dc8BadGApfrqDCgWFxZeB4bjvYUaarNFDaTG2QYtMtRhu1WKFiaXdQIvPREpU5gYlhVtWM1PhSvWC9HQKeQ3HS+mR8mvHYxgol72UBGqnCoMAabMCmvwilYXHT4iShFfY+JBUY7SoecPKECuLUszJbF0nQYS0lVQKDYkUAMtQItM7Kk+XvuBX2BGcJskyQykOBG0iEMoJnkTK6Gjdqoe9SAfg5RBecQHYfKKvC5iajEk6BsufspxVlkSDEzlJWXK0/H+ELocCUBzUTSwsiNnjKqegtWCAs7H6zKJxVQFYT6IHZLlIRQtiYclFBD6A6rE1FS6ICXJfqQUoKAfgbKI+VVIQ5okSpfTkE8lqTYIRWG9UnC6Ui4FFQY/5dHcEd5hBMoMAabMMmtQVme5EIBzhUYTKRHJSR6QHT98jjIbh5EbcEGWBYgm8p0y9LKwbIKrknYlZZKdmU0Z2zP4maEW+ZUhLro6TcgkOXJn5SgTFJvJDCrO1tr5HVwqKERv/KQT8sSSBXG0U99ABhTBTrARVcv3akOG4FQJQQaebA30nTtXZnZ+BPnB78Uv3lmK9xiBMkBAPjyWgR6sAiPQjQjkyAyk2F38ICd+BsQZXA6fedddhnaLlViMsHA0eCJYxtnIzldn2aV+6YhcU6mzwGISdR7gPUagDBDg+7sMGpFVKD8ESuUP89cYufxahjWqbATYMVvZ7c/aL2JmdZpci1LB0gls0dxFz8gBm+ekzeXRzjI8rYvW0nmFzr1FalnkR/65y1N+EdWlfZpfQ1D1r9XTiVhGlMCvHfxYzOZdRFj+wQiUJAK/9hdRkkqx0IwAI8AIMAKMQNcjwJTZ9ZhyjYwAI8AIMAJliQBTZlk2KyvFCDACjAAj0PUI8Fhm12PKNZYNAsHY3oo8V67oGSs+etiF4AYDkTzi2IWQclXljsCK9AbljgXrxwgwAowAI8AI/AICTJm/AA4fYgQYAUaAEWAEOhFgyuzEgvcYAUaAEWAEGIFfQIDHMn8BHD7ECDACjAAjwAh0IsBWZicWvMcIMAKMACPACPwCAkyZvwAOH2IEGAFGgBFgBDoRYMrsxIL3GAFGgBFgBBiBX0CAKfMXwOFDRYeAhfcmcypfBFyH3qHW3t6Ot5XlUvmqy5qVHgIc/lN6bVaxEoMvdV13HMc0zYoFobwVB00G7zHFTk7T7JtNcxm8wwgUDAGmzIJBzxdeCQRghWi6FnDnSpzOpxQzAqBGJJCl53po5WIWlWWrWASYMiu26UtP8RNPPPGGG25AlworE7Zm6SnAEv8iAhMmTPjrX/8K1vzFUnyQESgkAkyZhUSfr71CCDQ2Ni5YsECaIoqmZawQ13VBokgrVFWRFzYMA88EZU8eaDXoCGVt20aDDh8+fMqUKarKARZFfntWtHh6RWvPypcUAjvttNPDDz+8zTbb/OMf/8jFAQVk6XlLrm9eUrrlCfvUU09dc801sKRfeOGFvOzy3G1paYlGo7fccsvjjz9enhqyVuWFAFNmebVnWWtTXV0NgozFYltssQVME+iab4fl75c0DG1tbTfeeCOeCUaMGFHSiiyP8LAp8bgzadIkNi6XBy4uU3AEmDIL3gQswPIiEPSqoMZQKJQzK8uGKXMoJBIJeGXhqCw/1XI65u+gWaFprkHzD/E+I1BsCDBlFluLsDzLRADDljgG+zKIm11muRI/AJcs+AOPBRVCmWgu6IsUcGeJtx6LX+YI8Eh7mTcwq8cIMAKMACPQVQgwZXYVklwPI8AIMAKMQJkjwJRZ5g3M6jECjAAjwAh0FQJMmV2FJNfDCDACjAAjUOYIMGWWeQOzeowAI8AIMAJdhQBTZlchyfUwAowAI8AIlDkCTJll3sCsHiPACDACjEBXIcCU2VVIcj2MACPACDACZY4AU2aZNzCrxwgwAowAI9BVCDBldhWSXA8jwAgwAoxAmSPAlFnmDczqMQKMACPACHQVAkyZXYUk18MIMAKMACNQ5ggwZZZ5A7N6jAAjwAgwAl2FAFNmVyHJ9SwNAV8IbJwYAUaAESgLBJgyy6IZV4USHt7RtOh1lsyRBLlotu8tdtaidfAvRoARYARKBwGmzNJpq0JKGtBgPhkG+77w3HQyFbCilRZCEX57QtBt5dueRT99NjML2XJ8bUaAEehCBJgyuxDMSqgqd8OAJR3hOyJtG66uSs40Q/hyP/vsk0fuvm/OrJ9BlkiKljulEvBhHRkBRqCcEeDurJxbt+t0w32iyy2oEtSIDUake+kZF5x40DEiJYRtCX/OpacdssX2Wx9y/LEbbbTplBdfVWTKP6frROKaGAFGgBFY1QgwZa5qxEv7ep1OVsmavnjrtffWWn1toQlhmB3Tvr7rpgcuvHB8c3Pb3rvuef6ZZ7fE23FGQLClrThLzwgwAoyAkINOjAMjsIII4ElL8REL63ozf1647kabiBAqcK+/+uEBDRuedfL5puOffMzx7fMXxpNJKxsz62Zjg1bwWlycEWAEGIFiQYCtzGJpidKQQ8mJiTuHbp5Q2E+mFwqrRbQ033Hf80eOPV9EdC2m14RC7QuabccGU8LKhK2JDfucGAFGgBEoXQSYMku37Val5GA9R265i+LOMZGz1bABD91/ZaLl55PPPitV3W/Uoftj0NOxW2Z+O70mEg1Ho2nEzMqTAvdssJ+rpWh2IF2W2JeUKSD8vHxPYOqMPIUeCPL3s7l5hYt8N2iXZQq5FN1LT8dlascHGIEVRAAxHZwYgeVEIP8BSxO+iYkkZ48/Y5edd+jdZ0PXCF1/60uhXqJDeCHNn/zG62sMGtSjpi4ubEWYGXpZzuusumKQC55j8B7+EKR2MKNBEmRM50TOaA0TGSO2wksJxVEVaJRRSj4EBCHDVFMm4ex8tLLZBf5GhLNPM3+EEvby5CNJpbquioOe6iWEgt9RoWT7B4kJsqSypATQoJIZfXIVICeblznEX4xAWSHA93dZNWe3KYP7JEsquAY6Th89pia0mn6bjPzshwWPPjnp/Y8+G33QtmFTRNBpeuE9Dtz/tgfuNV2hx63cTYadTs9ut8m6IhWDL1tTiR/W7dPYJxRrjNaqqhI1QzLOV9MMTVE0pFi4XlF7nHfpXTC0kz9+OihabSohHNPNKk0L62GztrHnHr/b787bH29rJsZIJ7wi9UH71ot3/6uPGoNeZlUPPVpFGipKSK8ytaqacJ/Pf/gR4gt35oSx+8Y0AzjoqlITDYdMs66ux0abbfnnsWd+9ElT0Iiu8D3yPXi4GbAHneUmuXdF2oDLMgIlhECuNyshmVnUQiAgaTIgy87Lo+9Mt4iq6K6///2ggWtW6cSrFDyr6ptvt22fdQYLTamOVQXWCfLJSiuuBJ9q0rFSwnUVx0ulE5Au7Ui7E1QAOsCn5yWsFBnKPolv+gkYaFIRRSiIetLBFDjxpZf+d/Qxh+++++j5s4VpkLHWaaZSNUWSHMgPfzr+7F1FxToUwtQVM2Topi7C4VC1EYkqYHu/I+y3ya5B1UQ4nnIsx25tbf7so6l33HrbiO22v+3Oye0ezHPAIM1QzL7NPAzhJO5SiqStWYxuQYDv726BtQwrDSyLfMWom0yJkNU695u7J960314HjBh12OtTZ6KIn+j4ZPJrn7/5LvaxIpAt6QP9q+YXW4eqq6LB86pULWwLN2yE6yNh0KCBsCYjrKhRoYeFalRHo6GwZ2gJaWjnrCg9XNWjcfU19WjETSZVv10Vyanvvjfu+FN8lNPl0wX8oEW5+BH+7BHxrEbCsYaGXn16NzQ09KjpaYRD9NzgJtFqXqa5dU/U96pdZ/W+/WNhtKsj3PZk+08nnzLuy2/SaFnUYdOCiFjkSWiepvu8bkX+XwjvlyECTJll2KjdpVI+a9I+BQS1zJ45ctttTvzL2J9nfzf1zQ9aZ7V6NobAzEkPPXbC2HFUIhsoC6NmcSO1uwRd/np1zzdqeqz+xfc/Lkil57e2LGxacOnFx4MyXVv0bFzj+5/mJlyrLb4wmZx3wdnHEpV4GOoL6tcvnnDV9Bkfp1vjU9+fstHQ/qpwwob/yiuvTJ22gBSHm9J14NtcfmlWQcmACyGT6qtffDX9u59m/vTDD9/P/PqneV/+PH9avz6NYc0QcE8rik99g9G7x5rff/v5Dz/81NHWdM4px0QUW1WTqZY59/z7ITQt6vGCMOji0nIVAMmXqFAEmDIrtOF/k9rUP8J6wqCX9fdzLg/54Q+/nvLM5AcGNtREUjIkRI3tsP2Os378aUG6vU1gnolkSw+OQOwUVVIVTCl1dazDQPYvbKSwqTopCgWGSeUangofa2ZckpyxPiwrkE1gK+uOEoMPF2BsOnTtU044sCYiPLvNVezWJFy94B0ckn7LotJYMiF0gRaJVAoMasMpLT2sWBLYwBA1qB7OaFjH9GSgWbbW0SHIV22ELz573CZDalUKIAq9/dJ7hgwkojbFQ4QqbGyICCoqZVkYRqCrEWDK7GpEK6U+2FFYIc974+X3TjnxzAFr9I7EhOE5BrpM6o9F756NkVC4ua3VwMgmZUhuKUJbJBiGg2AkG/3XfAdEhz0fJqWq5TiArGTXzeME3VbCIRXE41kdHUMGr+4kQbRx207PbZsHagVlFp1TFg5UUpESvsOxqKmYiG/CTxBk2hFh7Lq+cFz8s+nxBs7WariqddjdIqHFvIF9a+FdF368vbUJTm0M94ZCtIwFUKJs7HFiBMoageJ7Ci5ruEtZOfSKiz1gOULV7KQR1epNo1r4STkzQVKMb82a/VN7PB4Oh2uklYauOMNN2S67uKCQzlbf1RRfUV0FBKFhsE/1IDNoACoRT+ALm6QFUlJRI3U940I0hlUjVPfJe98gE/FPZkit7hVCKTgsdUQMB6FCxaQtZENDej55XzE4mbZcBDfB0IxEpRsdw7dQDkQKA9Q3dBVtKKfgppuwBP/ML2ZKro2tNXQNJSwfMUg1PB7QLF1OjEDZI7BYJ1j2+rKCXYgA3TzDt9z0tttvEqk0ul1XdVwdxIku1Lvqhps23HzL3tU9QSToTGGsoWPGRmRTbAkC0zREDFTCLwnHMo33kW5gTFW6JwOBqVjm70Vq4SheB84Avz73+AuXX3EbqEgTDaYRHTJ4ACzMjlQLeT+LUuNAoaFDh26w0QbrDFl3rXXWG7zW1kceeZ4L3wE5lGUiXV3LaXHQak4q3t4x7oixX84WhmKk4tbIkcMduOZ90ZGgMGNOjECFIMBWZoU09PKr+YukBtrIJIS1xBAMe8Z5x+w6atc9f7fv/ocdMy8+f+r0d2bd8cltN9320Seznn/hZdgtlMBB9K8Y2YOic4gvIZ/vqZaWCe8FZSqqh5FOMi9JaSqGDeN2oBNJqFry9GN/d8GpVV7LAi+RTPtWTPRKix7nnnBOv3AU0bNGCNqDdjIsK4Eolo+gje2W9vltC0UbFmeAk8CfNxvzSfFwA+ezQq9to0Lx9vRXA9ceIsTcBfNagkAfw+9XX91r/312QzQtIDGjkXytgpqLUed8KXmfEVhZBPjeXlnkKvG8oD+E5oFvz0Ro7OqbrP/im6+Y0boj/zwunuo476Jzjzp2bLvl/PfF/22z/RA3mGICrkSkaXEiJu3LQDQffkoKA6UIJqxigxAYBaSZJb2M/CgPq4uy4dRsjs+ekUzE0zQxsd7Vqg7a/8hx4/Y3fT+E9YSwdI6MtSlOvUkq2xZ6SGDFBgOOc0sP6QZ8sA5AUNzAJY21jlJNbe0L5sxrCTJ8Ud2nz+Bnn35mtT5hFY5sDdmEBSdGoEIQYCuzQhq6q9QMiIN6SdpTDF+r6rvepo8/9RIcdNNnzEjEU4MHD2xoaAxpIgVOsVpjmNBHxAN/X3Z2RlfJ0pX1gCUpShRPAz7CRcmkpKn+S0ukBR0CHWKFA9/Acg2D+q+5+aYj/+/kM7bachCNXmo4Bm908T6PUjCvr07/aVZDzzrdczBzpDqUVRerGnhh04iZaEG3JmzUpJIYsVV79ui9zjrr7zByl5NPObOhp7BcqInhzqWn4C4pXv2XLjXnMgK/jgBT5q9jxCWWQCBDJioG7/Ta4GhVNLrZ0KHYT6Zd8CWSjgkcVTXS7UkuPXSvyC6ubjRHitT3Q7RFpAODKtnBS9InSJIl5Id+zZ0PHHHw3potYobADA2E04JI9BDOwvFFqsqeXPhvaR+TcHg8SNlwRIuwqnuQPycxZqQ6tm179A4aIepi/adPfytSLVS9c8VZ5JtSv4AaC68VS8AIrCoEmDJXFdJldx1agNsVbz/8tOO6rYrdrrhYdw6xM1V6SPFMTe3dkUjtve9IPaLp0hwpUg5Z7nbJyA8DMpiX6emWRQ5NA3zjInaYNvpNXmtsRa0uRmOxlIFm6jTfklgzM8xMusHz7NNYpnwsQAhxLQVFwSzFowFNM5XZWdCWVHLJnGxZ/mYEygEBpsxyaMWC6eCLIw47xHPcJsVtg22CmZpZu6NGXzNa23OXvd7uWYVBvyyBgEoW6XILJnjmwissDEUF4Vw6z8fKQWFYYqAcCgSmeRZBCgw2+XOF68/W0U3fPryvJFjA7GBFNA0SMWWu5bCeA4U4kaVMM2Ww+h8OItFAL86lUzkxAhWLAFNmxTb9b1ccgTDOly3fu2kn4aqW52kRA6vOzv7ps6nvfTrhwttvvu22mh4BRUoiLepYGJBBlu2zwEgfJjKXRRK6L9//RaeBTohhUAn+oErgb4q0xVpMctZpQIiB9KQsNRO1rIQBiznRek4y9geO9gCKgF+XBYs8jz8YgTJFoAT+vMsU+bJQS9NFtFqLKtW+4rq+piu2q6w3ZIP1hmxZ4/U585QTnv/o1YSwY0FXC1LJdc/Fo31A5BnCg1hqWjUR54uZFoZwNN/DG86ksFJ0WmFWxcpw8ocKjyWOgWEk3YI65V8TjkkDLcvB8risovAfWJ1A1eFghSMZ0cCaS6v6wL2efV12ICq0iFgqZtlCA0uoCZSgRfFgbnbqBWVxOPO78HqxBIzAqkKgmP6eV5XOfJ0uQgA9ZtBp0kQD8CWqNbRqrIeD9cl/P3L3trkLv5k91xaGTRGmcqpfsXEm6A2dPzbJgSEdUwyNdKjODgvN0H0vriTi2chXFILh5TWlrQQmXSL+JRQKiySt0gC1Kdo0eANKFhKCOIcP/Sh8Ih31DhFtpqUOQ9CwZwjL4kJKDGhiTVzSTgqJCOfahW6N7QkDKwFpbSBHrA1Ec2s6E/cbnVjwXkUhwLd+RTV31yqLPlh69zA7I8s6GNfEm0xAKbblRCMRXTeDie7oboNYza6VoKtrg5ihk88aP7+jpcNqbWmfuVqfuqzliEuRkj3X3vDHZNz1/WRq5vFH74KjoEyFBjTld1cL1NX16WMOPS7tOwm/vbl1RkwLpsJAL1rzKHMtDNYaNdfecKeNpfTsxOx506rrhQ5bO8OY8uGiq8Xi+hiBUkFAdgilIizLWVwIyE5UTvbPdKeBuUVvLhbn/vPvM5vmNUaqQZnoZYMJ774C3syVLQ5lFhHHc7102KjLWJ34QvQofJJkSCLh+RLLqqqYSkIxMTS3ER5O+lSXPn65SNVBFYX8RCgsPbZgvFkjuSG0HvB8YEgHT88+KQx1EOQMZ7vjIq4W58iYp0B27AYli0y7QiLL164gBJgyK6ixu1pVMjiwPmmuWte2LcxM9FXbduc0zbnx+n83VOlYYcaEDVa0Ka/nT6fTKt6STKIqiUQiZGJ+TBA4ikLgCaIKvLtDNc10KqWbYXpFSymlgOw0y7JM04wn47FYTCqGTgCaBFYmnhHArD7RqaIHzvZARRzOqpsHWSmpz7IyAl2AAFNmF4BYcVXQ8jiZtOdee2V3Rbyt3TBCtXU9jHBk3zF/GrrhmjAw6dVS0szMFSuiHXT+gSqSBUAkmJUojWQ1EsHYJDzOEFauKitXZMAPXzPxdiz5do+AY3BmaVBIIC400kzDFW6sKoy5McSCFACFF7cErInZMhh3lhNnyBRFCkzsPDtT5vIHI1CZCDBlVma7r7zWwSR3ubYcVXLVVVdl6oI9hkkLmG2hUwgmzfmTcwBpviKIh1gz6LRX/tLdcuYifBfEwsLlimAXKW0QT4sLk/z0gZexIBGNEN3ImRhyOcBSIU60CxSD6NADn5SgFVIGB2gE9YNuQWpHh1EwOEOW5A9GoIIRyPzVVDACrPqKIUBz3GF3acF0dxALjfe52UXXYYzYtp9MOhgBQ8EOl94MQt0xNvTW+Ao66BW75qosLemBmBLMkiVOef1ghVyogy1jZnvBNH9EnGIrdsWgBESU7YVPzL8E7+MRIasp6ShVpiJBfl4OHeLECDACSw9bYFwYgSURCPpTyr9m4jV4MRaWVCMvHhEhQkbcYLkYLB2H9fE8V7UdEampPWrsoXQ4l4qRVgIyyHt2hEZLdUNmNckUzeiCX3nn5jQtxp1AU/BhdqUiqLBIiwS65NTBTo4pc5nFqBjLxAisMgTYMbvKoC6VCy21c4SPLreJCy4424eN4oVpoj+xpisUmFlIKhY00HXVd1TfikSqa/b4w169+9VXwS6lvld2z0E8jSxdHB+d+mYWiSNqxP9szFIgsORLfODtWEgZXywUInINSsoS8mjRfkBEGSQrBeyUVyJAuiALushQYCqCfATTBqmzdDaHvxmBSkSAKbMSW33Fde7kFcxCWNDURJ2pF6YhPblmN1HMYgmT4w3RrggEmWSTNFnoZ2dt2UNF+B0ImTOzSMJOuQPjLPO7M7sI1VhMpJxWnUIHDQSNYH8uYl53FlmsEv7JCFQsAkyZFdv0K6Q4ek8YHLhbHHSwcl47YiylMUbWSX5V4BjZ1YZ9N52MhKJYfI5WM6DCAf2UVke8DGkXUTlf/eLdz86nJAk7tcopktspXg1YMkag8AgwZRa+DUpEAnSz2OiGQe9Ky/0gIepHsRQKkM3cSIgD0rDwLF4dGQqpigFT03LdCE00CYyYRYw2yuTECDACjEDpIND5uFk6MrOkhUMAlIcNzlgKkfEULZFMf3fphBO33Gqd2ppor4a+DXWNPaojvXv2bjTW6FG9wc8/t8U0vE0KNItzQJymDNEsnPx8ZUaAEWAEfgMCTJm/AbyKPhXRQAj5cf5x6RX/uvKONQetccnFFzQ29DnsgCNPOfn/1hw0sG/f/g899Mha/WvyHH55uxUNHSvPCDACpYoAU2apttyqlRumpYyYBesR8WHBAvBlAn7aZx79/LQTL//PIy+cdOK4/r37n3DcSeefe9HrUyavt2H/d95/vtUhXpUJp2E1GcTWsm82gwh/MQKMQMkhwJRZck1WEIFxnwSbvHrOXPT1tvnpTdbbMtXW0ZFKJ+Px9vZWEY4omnbGySfcfccNqVQcg5xZksR3drcgSvBFGQFGgBH4bQgwZf42/Crn7NyKMMSXuG1AhWEMTA5craZ54bfhmnojVtvYt/67H74UhqJEYg3hKjOJKCAfa+XA0JQGJq0TVDmAsaaMACNQfggwZZZfm3abRovwHSiTpp1ss/2we++/q7mtXTOM4Zuvc/vtVyXSHYm088Kr76ZdXXN13GEI+5F2KRb8Dlad6zYJuWJGgBFgBLoTgczcgO68BNddFgiA9HL+2My8Plom5ui/nLLhe+/UVdcoSuqE4/e9+65/DV69T6Ru8PfT55980mm1epiWy4E7FkOYio5vfkYri7uBlWAEKhQBpswKbfiuUJsYcLXB/fv1/aOT8g3dr159jRdf/d+Vtzz+7U8dJ5+29/HH/NHsoBkptBFVBgOZTJpdgT3XwQgwAoVAgCmzEKiX3DUD2gvEJnMT5BcsOas+dtN/tt5qx74bDnK9qOI7vdfa7LIrRgWLrrqupepYilbDSrQuLQVuSTMVtxyzZsndASwwI8AIEALcefF9sHIIgDWJOC8Yf9bmm2+wx4573nvv/c1tKU3pAb5MOiLupmiVbxOUmakfv9Tcj5W7Jp/FCDACjEBBEWDKLCj8pXJxsizzNhIbxqKJ4ckPvvnk2juuVEILThh70IC+vUePHv3002/gZZkhLWyrJj2SydeYGPSeMJzF91upNDnLyQgwAktBgLuwpYDCWUtBIEeZdAy3DTZysWrVof2OOOSZl59d0PztlZf/rWn+z2P23r1/45rHHn/+5Fc/S/vCDZy6NMEERibfb0uBlrMYAUagVBDgLqxUWqrY5Aymi2iaFiPrUSjhWM+xJ50w5Y1nfvzxjQl/G/vVW68euvcf5zUlLF3QW6jx31PoE8TJiRFgBBiB0kSAw39Ks92KQGpQn0s06Kj03mWMWGL9PDHjq68ff/SRxx9++tvpTf0GrBUJh2lEE6RKnyqvZFAE7cYiMAKMwMojwJS58thV/JmqJpzWtnm1NXU/fPPtU888f9PNd37z7cz6mobdRu1++53nDtl4kOULG8v/0Lu/8OoTfEqLtOKBYwAYAUagRBFgyizRhisCsYn+1Ifufei+/9zz5hvTDFMbve+BV1592w4jR7iWiFSJRIcXrVINvIsaJQOupHeGFYHkLAIjwAgwAiuFAFPmSsHGJwUI+Prf/3btWmutdeP1N+5/wEF6OIKJmKohsMFRG43RpBLiS9BkwJTMl3znMAKMQCkjwJRZyq1XWNkl/73/0acNjfUUPysdsGRPynzsYJxTxXLs2MPRgCyxj8TEWdiG46szAozAyiLAlLmyyPF5WMjA92p61mEdILqNNB8WJcXFwsBUPZuW+wFVdob8BEsaIIsTI8AIMAIligBTZok23KoXe3HKw29FVfSczQgy9PEGaZ98snhliWROkpJifyhlyJJNzAAO/mQEGIESRIApswQbrQAigwZhTCLhhlHT6bSu0b+Mj9VzPWJIRVE0Vbg0eOniyzE1U1ieCGcNTZBljkdXSoXW1lac9/bbb4/aZZTnBRS+UhUV8Um+78+dOxcCAuQddtjhVyUF6L9appgLqKpqmubUqVOxgzaF+qWuUTGjzbL9dgSYMn87hhVVAxFVKIR1ZPN6agU+WIWMTLAm8sGkvmKqhgdbMwoOzeLjO5lxzazBmT2wvN/z5s1D0QULFkyePHl5zynBcoZBy9qDSF599dVfFb8MCAYqgCxBmUhloM6vNhkXKGkEmDJLuvlWmfAgRNwq4EtsAQeim0OmCptSWgbSOPB9DwvjYVTT1xwYpQiY9YWhCh30SuFAWScuzlup1Lt371AotMYaaxx22GGum6PilaqrWE9KpVJfffnVY48/BlTHjx//q2KWOsdEIpFEIvHMM898/PHHjkxYUArc+auKcwFGoCAIMGUWBPZSvGjQi4EJvRP/cqJtu46l+q4fjFR6qoFxTRAmkuY7nh9NxKNmdc3frxxfVyuDg0CZQbjsb1AdhhfclaDMc8899zdUU9SnAsCHHnoIlAkpx5+/HJSp5pn7Ra3Z0oUL2BH+g/fffx/PQ4GFvfSinMsIFAECTJlF0AilJsK0adNamtuSSTek6iHFmTd/4cz5cWFE6xob+zZUz50xLZGwas11d95rNN5l4mgClieNuAXbb1A2Go3ibBDnb6ij2E+F1WjTgkkCZrQcLc4IDCpdquilbmVCL6ig63qgeOChXaqmnMkIFAMCTJnF0AolIQM8rtjI1nzl5VdhZWLf1IzpH36wz/4H3nbFxEMOPzjtCC+VrDOVD6e8++dDT91nj51qqkSHKyIq3hOWDZ0tbaOoJFqKhWQEGIHuQoDHDLoL2fKqF2RJLlnQpO8bnqsZRsjU4YJ1Lrz0yt/9ft9DD9kvJPwaXVRXmb6rb7rj9ldcfNZFZxxrW3g9GNmXGPd0VQebnLZZXtiwNowAI1AxCDBlVkxTd42iiGlEfIapCAMutbb2tvfffX/zTTY3tZCs3saCslj0R8TdzYauL5xUc9Nc3GFgWngVbeHhzSddIwXXwggwAoxAIRBgx2whUC/qay6L1XJPV5kCiqrX1jc0VsV++PyLVNxWIiqCY1NuczRcJxTtk2nTHdcEuQZ3WLbS7PdKIRCM55X97D2M6gUpHyTk5P/kfUaAESgIArl+sCBX54uWEAK4VRa7W+jnLqO2n3jt5U8/MclQNSxgENIiGLSc/slHZ1/yty1GbLd6Y31MnhacjEVnS0hhFpURYAQYgcUQYCtzMUD454ogoHgXXnHBp19/iLFM/ejYFttu4TruvLlN33z17cD+A++++h9BXcFNpsvJJnLh2RW5BJdlBBgBRqBoEOCn/qJpipITJJj1YGiPPvvM889NOu6YI2ojNTWx+uFbbnX7PXd9MfOLwUMGQCe8zATL5EkrM1ioveT0ZIEZAUaAEcggwFYm3wqLIbCsp6glhiF9LJNnCK0W8T0jRu00YuRIoZvxZDoSq8b89GTadrG4geNhcjqPwy0GMf9kBBiBEkWAKbNEG64IxEY8Cr26xBVWHCudffH1D20d/mbDhruuA3MyoqtC0zz5rmmYo/SCExm/sixCLgJ9WARGgBFgBH4FAe7BfgUgPrxMBMjfagmx8OlHbl194MCNNtt+1O6HPvvcu1jOBSR6xuFH/u2U0yzfTQfry8pPcOcStuoyq+cDjAAjwAgUGwJMmcXWIkUuD26Y3D0D+vOeve+hY44+e7uR2z7w4P0Ro1pxQybmldhi0yEbPHTPfY6igTLLcwH1Im8oFo8RYAS6AQF2zHYDqOVZZY4poR72seaprdjqdddNOuzwsf+4+eKWNqtvXXWtUUXaR6s33Wh4OuXObmuO1NTTyrDklQ3WD8Itl18VFefECDACjEBJIMCdV0k0U9EICddqECgbSKSoH38yfeTIXQXWMHDaO1qaQppCrlghmtsTrqK7NtYDChJM0oAyM7/5ixFgBBiBkkOAKbPkmqyoBHZWG9jw/Y9fgA5ramoikWhbR6tq4lXT4rWPPwzXNPSJ1DQKYXTal1ienW+5ompBFoYRYARWAAHuv1YALC66OAKKs9/+u1948TkvvTxZU0NmSHV9K2VbDz/2wOUTrzvw0CPqwmHVs7AqOwJmESwk52cuXgf/ZgQYAUagVBDgscxSaalikxNxsYrQxOnnnTBr7ud/2OvIgQMGzvyx9ZzzT2s+vXn+/Pm7jdztnPNOR4CsqsE16yICiKaaFJsSLA8jwAgwAiuCAFPmiqDFZZdEQK+66oY79j3og+eenvL5p1+mbWXL1bcdPXqfPXfZmspanoiCMmn8E7amPJsdGxIG/mAEGIESRIApswQbrYhEDou44rvqtiN233a73UmunCEJlgRFhtS05Rmmjmy85kR+8nBmEbUfi8IIMAIrhAA/8q8QXFw4hwD4EOsYiN123u+jD74ndlREqqMNOWnP9R3x8YtTNhu8dktbSphqEGOr0LLsfL/lAOQdRoARKD0EuAsrvTYrmMQB9eHyvrDslBDt7W2zZs2ak0755Hl1hRHCoGWzUNsVrb1vTPVaF3R0NINMsaGA6mMNPTYxC9Z6fGFGgBH47QiwY/a3Y1gZNeT4UrpeXb89YS1U1JDnOS3NLS1zk67arhu2MFxXUxxPu/Sf/7I8NRwOS2csj2RWxk3CWjIC5Y4AU2a5t3DX6+d4YuF/n7nn6KPO9CysJqvucfCWIZiPqp3GXJIgKXrMaBh/3sU9e9TLDJziZZfNg63Jvo2ubxWukRFgBFYBAkyZqwDkMruEh5d+jRk9Zv/RBzz5xNNHHnD6SSeese4Gg1SD1mNXNN1Rw74S2nTT7dYZXGelhaFjoVnQpQvXrJBvmS4zOFgdRoARqBwEmDIrp61/m6Z4bwk4j8xIjEdGFfrU9x599HnjO3bZedTQLTbCq76CuZe2/CKSdEQkhPKUrwoEzWKHEyPACDACJYwAU2YJN94qFB18iRViYV4GN0xY/qTrjxkzprGhJ/GlawkN6/sE80nE3O/npBMdg9YfpBFT4iwFg5pZv+0qFJwvxQgwAoxA1yHAo0pdh2WZ1xSwZrC0enDbYEpJx3HHH3/gwUcK28tamQ7WxtM88fTNtx6yyx7JhN0ufE/O1sQ5hTQzQdeLMjb0wfbbU1fV89sl+e01ZHRZAqslay4nrZfUjnMYgWUhwJS5LGQ4fzEEcKvk7hbswHBEt+l89eWXo/+wj/TZBh0tRjod4Ts7bLx5fNZC2/VSQoGrFkWD83NVLFb7KvopWXOJ7p4UkRt2kILj+e9doRwHq+QiZegkKEkZRZwCRZYl6uL5+C3hkQp17i2i3+Ln5B3EoV84mleQdxmBEkagwD1YCSNXWaLjPsHgJY1fEvdR54oduGfNkBFeMH8+sh3bckGQaSuZigtNj+hhVTU64lZM4IXTtMm0jJ64+8H04DdWhJ2mN5N5wg/Cd7N3P6QKZKSMREeb68TlOkaWj/FYSshXHR/msqQFG2s4ICejS8CkslhRfUBayBvIv6RgpEoqlUKhVJLKJNN4ASq5AQgC+NClVqjBB1QIdsbyFBIzHE3bVB6FM/rLr+BKOED1cmIEyhcB+gPhxAj8OgK5PjLoKenTRFjPtsOGvvHKM14ioZtRTTOiITOMcc2k9fSUN1N6TNej6EbBrp0u2eD0X79eF5dQdVM4jmGCBRIe9ig4iaJ4fST5CCCJgi4ararS9LDvtIBvFOjiYZEGLGckFFWjvxYU9z0vOQ8sI3x6EgCVyHw6t6iSCsFphSYHlIe1ftMCc4Ic2MrYkFzXMU1TUUU4gvZBoJYStBFNFMIzha/iTIvQUSh4y1cVkKaXct1USNNRIapejB3xE1uBmreogGdhyhkBpsxybt2u1A2WB7YgZfapqx176Oipr70w7vhjP/3447SV8LxUckHL5RdPOHPibYeddVFDvRlyRNgXOnpT6mVzVWSrWlXfdtIVCtiuRSithnANCmTyNMVTkPBCT7KYwzA1fVoEEEK2KZqD95i5iXg65aUTSiolXEW0WykKb3ISaigpBKry8T5tQxUWfhUZV4D1yMT024S9UCge3OXy5WuaUFVFUbF4oaaailBdkH7QNG6TcOfC8sQxPASAJfGUgDlDqgq+RBYwwYlpTcPDhnxEkBrjVEJL6h5YqAVr4FV1I/F1KhwBpswKvwFWXH10isEG69E3N9t11MTr//nc808NG7ZFOFQTjdT36LfG1TfcfMxpJ550zqHokfXAHkGvWlBSMSKadMcmLjjtOCMUMcK6FtI1U9cNlTbd1NX6NQbsmk4KF35XN7XZBhtURxv1WHVDXeOQIdvBtsRyDIYZJss0rAkl/tid18TUkB6ObLjufiCfwmq3lFaEcZxI3P2vy3pF+hmaFtFCUR2fqWWi/wAAGmhJREFUqqEpOsxlLYSVm/BtmtU96tZzWj2RbDv/zweGlYiuh1Sztle/9Wf+HE+DH8GKGRr05nz+YV+j2jS1dQZtjmxwaq5J0Y9g6/QlLEUgzmIEygEBMhQ4MQIrhEA6nQyFItRJumGhhX5/yHE7/OnAd9//4NNp3/m+2b/valtuOazvwN6wV+AARd9KDk3qXLGL4Nmgd12hC3ZFYQigwNBM+qlmQxGwDmFWwhRTVUsJ1o339Vi0BtSoGbqVSkWNEMgefx4J24r/OOuOe148+OhR4I6QD6vURkiTZrfhPFPEIno9zDIFlmoxJTftG9FatBQIj2x7+FnJbAwSGgLWtK6ohqriHeD1iqOKKj2mueA8G4O+wlo4r+2i8Zfdesvf6ATk4gzhRjQHo9kREeuI23Ob2ht6VMMsx+MDvUEcV4AhC7s1S7B0IidGoOwQYMosuybtLoWo1wySQVYVrDGBySQiBL9mVbWI7DzqdzuPIjMDETYm8QfYBxwFz6ccU8tYKkEFhfoERVqm50i+ROdeV1MVM6MdQknBXBZujao5qvyD0FSlvakZ3I6VGKTP1TvvgvF77j+qsU4aU/TCbKoHBfBb8Q14fDsNrkIpl39drLSkQkjXqKpTQkJLYahSjZheMiHSupDhOzFTi6kGnM202ARF9ihOSHGgvQprHL5YVzz24KN/PuzE7bbvDeWwyCHGcxVhaTTwi9m3hhssa5F3UYBAgBRFQ+eJxbuMQJciIP/qu7RGrqwcEQA3BhuU8yw7YTtJLIZHUTHtvkA8DRky2ND1ilAorXiuYiseFmmHE5BoVB5BT0y+3MLcclJAGoczpO2oaT1W67XJjC++nj1r9uw5P86e/fPsOV9P+/oJBAlJj6NaU1UL/sCKRSGQima1z5l5wcXXQXR6cIBlBWMU1EGKoZAMBy4qqlAceF6hyBEnjZ/d2u44fntHat4376zbTy7CpNdeePbNyba5yeSCjvhPCzre1HuhZeKKCgalJScQ1YTVmkSy9YTjDl/YQQ8NcoQ37StkTmIo01FhYIM4swnnYKP/RYVCVjz+ZgS6DoHC9F9dJz/XtIoRIOIMm9ER224zcM3Bs+c1b7jmoF4xBMlqcNUqGBnUFV0J14bNWLRXz15D5jXbqSDApLN/XcUC5y5HkuMHOnsQO2I+NQ/DeEE378M3Sw5jsCFZmZ6HmNg05sqIaKhuq222DKkJobTfd+utn31p0UOBNEURH5OpUTJocVmZpApwhzLVqlZFersprJtPUbAIdnXSaS+McChMJIHnHI8+wp4nnKTnkHaIJN5+xNbkZPUSX3/18Ssvf5A1oRH+Qy4DUKOvagihBT2SVzY/ZYvm5/E+I1BOCFAPwYkR+DUEApOCOIJCLy37uKOOsdRw42p1fznnDOTYIBDFRS+LbthAKV9Pi1DKFbU1BsXKys6VAlbR4VLs5apPJDkCR4MLk19ZCfmeARcl+VQhH7zIEN1xbTehhzzfsRtqq6pEC14KeurZf/1ov2dw3Or4+uKzzn7kiSuFEhML5zkeDRPCaFYwO6MgOv0CimB+4IyJIZLJVR/mI6hSUaEvNUe0XbXtGF7+LUyyqqGFJizHdD14BKDKn/YbbSXj77z/iS/qjj/qhG9/eLumCoUw0IsKkVzVdWFwEor0M/tFSHJiBMocAabMMm/gLlJPUk6mLhXeyiOPGxf0lMf+ZRx1nArmxBPtwFpT0D/Lrjc4R8c+mXU4hv8oidKr3rcRmJCZ69qYbIL4HcNOpUWkBjIZCkXvKHAjGzp+tyCgJZVsh9dZDddW1fQ479RjL5xwiybMF5979tXXT999u76iZ+9IdQTOXo+GAYsvAWPQH0SDxphQibk0aBuwe5bVbI1GYmV75IRH0Qw+eM/pxZf8/YDRf3Adq6Nl/rVXPnjO2X8Kw19r2zQpBdM17bSLHxgBtl1d07PnyaoyLJqrlncYgbJCIPNHUlY6sTLdggAYBBuesbCCgYnASsxbdJFDliXNcnc9Bx0qkg/bTToA4fzM9J9Bb1ygUcwsGBBCPiBikiI8kV7TT3Onrr3elmuuu+Ga62yw/uD11hu8yY3/fipOIqsORmrdJNjBSsecdOSUcScMqEU1GL5t+79xZ1L0j+e12ynEw/gC/AtbtOgSbMCl2vNEmoEPehGR8Q5T3VJD0MwV5qw2sd1Oe/5u5FZRJ+F7s66+9pKf2kS7omIeKxAMCyXiIAgacUKoKG/4EsgxXy6CKv8oQwTYyizDRu0elYKnK7JMHn/gfiyLk9I9x3dNx8XQlquaHsYDVcXwFcSeKp7pO7Gk5/7h4D3Qs0YynSmMMunDLFTHmuXsuqhYmDRsv2Vu8wLR3IFHAV1gWaBoOm2kwRiqY+pGbX1DSMxuc3WsJKf0bDzr/JNOP+f6pNUx/dNP77/nhUMOXy1c3QhOkoyRCwTqHuC7s1Y0Z/apWXcVcqLjkShumXga+PulF279/K6mSLU3/XDJP67614RTNcxjVYXh+ZrhY64n3Ac6PgrVmt0JC9fNCCwLAabMZSHD+fkIBCYaelRszl/+cnxTS0eC/LCUETNE0gkragRrsIVMLKXTYVuIkBnUv+c6O+61R6wOY1/ytWAYBi2OhGkwGK6E6NFIXYKifBSFon9kdIskAHiW25rS4FLfxfxGGFY9Dz35tGuu+nd8VmtcLPjrqacdcsCTCbsKbEGr5+HdLcWXyP9NiskPzJCFE1mu+kM5pCh958kN7REvSxNTwIOuH8WhAZtvcdAhO1x332R42++/8+5xB+29bgSOa9FhJY0QFj2SA5/F0qQkNydGYBUgwLf8KgC5PC6BWwUbsebX33w1Z/bMefPmLGxa+P2Mz4YM2eCQQw96dcorM3+eOXfu7DffePu6f04c0rjGo/ff17uBXguGwU1ayTVIsisvDCLZ8B/yrApv9cYh82d9l/asNJZsR2Cv1XT88buG6F3YmhqrUzVaelXB8nKaHvd0oUWvvfxCeGdjIjGv+cerL78hFOofzOD3af5KSSdMoO2MjYLONVX1UrXwRZf/oxrL6rsd1sJZ55x5hqNG/DAGfsM2lqvHKrUgXWmWlrTyLDwjsEIIMGWuEFyVWThjXEq+RCimEa7qWd3Yr7GxR3V19PIJE9dbd6O77rp962027NevqqY2PHTo5sccfczRR+84dtxO4EkNy7mib0VYKeI1sS0WdLLqECX7OLgaAlYUURs1B2GdcoT9GDC3QI9GME4LkxhcoHkaJl4ibAYrBYVisNIsb5t99xj9uw0t0RTR7KuuvrOpLYQCYJtgYgqZbNmnglWn04pfieg9T86gaWWjgPklPlgasKMjaoi0Z0b69v/ryWN6Ai514UsvPvXgc5PbFIx31rpO2HWpLfF2FxIhqCVb14oLxWcwAiWDAFNmyTRVcQgKD56Gd3sh+MP27NbmlskvTt59l93RDSPmBzP8EQ5D6+PVGXvuNmLBnG9+njNn0YXk0K0WIOGq1LVnbSnPAT+a6aRWFcFrMNHhI6gUsywxGxOBPHEbKmByIg3sqb4OKxNjdkghYSmnnX1mn4iIaIn29vjV192GQT1UnJnRKQsV34fkMRrEzf9L9zA5FdxJg5EksWwUxUFgbdA8COSy8diAUWhRdfpZpw7oCy+sh8Vpr7721o6UnqRVnQgTQIrnC0rYy99kHn8wAmWJQP4fUlkqyEr9dgSow0WEZLDR26Aw9uc6imI21PXUU8l0a3M8jSE/0/LoPRhCd0TSTixMK8mIKUJR2Vujj5b9M6YBFuaWoxAdjFeqjqfY4AlXpDArEcvcYAU4DSYwXu2B13ti0XKyGrF4Eeafgj88V3MwH4P4QKkSsTUHb7XnkWN2CNsi7qTe/fAdFARX2E7aDV6v+duR7qoaiMAgm4WXrMi5JMCcTMWMCxmcB7vaBxHietQwxJqql9YR/St/yFV3iRURHV1Vf8Y5J+FdNGHX+2HGj1hwL4L1EF1yWNNFMkOm8jT+YAQqAIHC9F8VAGz5qUjEGWglJzDQPqJKdhgx7N47b22aNx+vYDRV8COmNCawmOkl/5wYre1VX1efmYGBotQxUydduATWlLYmSU5TSWmeIiSivj8jFOb/gwygKdb/kesAwP60iGnI5AoJP/p/J4+rr8kCIU/GGgE0NooyxZbIuJSo03STTNvJL1qPghgPKTMaiWI0X4iaB6seyGgheRiPOFUHHD1uq80G+D7Wq0B1kkmxjkEWMVnJIhjKE/mDEShPBKRjpjxVY626GQH0yL5z4cVnbLnF8I0Hrjlyj98N33JoKBqd9tX3r7z4utXk3nPPfXhZFmY3yl4WpWmlUqzovWj33c1CZqvP9PA+jCsdIkl3LBFEhuo6CQ/GNAwyDzRJp/ieRu+alKazZ4BP69db74hxo8+Y8IQeVRyyypxqjIrSrM1sVXK3wB+kDlnV0JCEp1WAMuO4UjBHVVKBfQj1M2UwmCtfhAl7EzYkdJaIaa5XqxnGZZectc/oE+birWjy/MAfi5o7YaOrLPZbFuUPRqC8EKA/KE6MwEoioIj6Iet8+uXnY48/du7MmdddO/GMs8558eXJW44Y+b+3X99m181RreTLXPUFu99k524KpSaN6BUSx/K1FhrKW6TjRylwBa2BhxkXKKSLlJG/UgEyIz3HnnzuoME9HCtgYSvlNZGpVjDNctguZQee6EwuOaWjgZdWKBh1TpALXYIiC8CarLGUarlvGX4KrZY5qMa8tLbpDjvuOXo4cHMVx8Wjj0I1oUy2dlkaPxapcynycBYjUOoIsJVZ6i24yuSXNhnWLcVAJsYzaWVVdJl4dZQS6jPg0isuwxGhOQKvAlEiRCFy9fOUI0KZWwy9Kb1nqiAp07P7MaH0uuDGhy+4HkumysVVwXpBR58RC7+hGaxJ/a2PPkcZR6X3m1GiSB8kGGV1kV51X8+YC5MMq5qDVTWvcyE6WaYYPjD+KjcSGUOYCGEKiZ6DPpjbLjQMxdJrvzvZjhSpUsWAC2+cdOGNcK1TBHHO9tTgn6bx6H7XP/jC9Q+GqRGhtCLS9DaX7PPQIhgWg/osAyPQXQgwZXYXspVQr+ekVRhhuiHfDBISKjiJFqML3pFJr2iOBv69DBgZ+ikENMECt7AyiQ2w7ltgD+ETHX8mEV8SlchFfUCd+KlLv6U8Bb9AQjgK2gj8k9AG/kvMnMHKQfkMlK2viL5pDqWmYplYkjQbEAQgoDLRnfSW18j8QDnJhyQ/IoWAA3oJbDTSqcLRrlIQNJ4gAryolEyB5xfV5ZFx9hh/MwLlggDf3uXSkqtWD7l6DHpfsGJy+tvPHrjPXiE9pkUGPfbfD4QBHrGeuObuyQ//T3rxMpJhSQNM5cCPoFddZXceOnpK6PmRKCJGLiMOCqV4V8S8kLsxjznlLBqY0DhKHAlpUQwxTBTGhAFODOPZkkcRytTp9iRSpa1oEgYjoSYsaWxQOZAOn5l9GUlrQYUgC3yY1xwySCowqoEaOaiDt5zSuWRYo9Flafl8ITWW2IJBsXFiBMobgby/lPJWlLXrYgSCXlj8+N7HY0aPmf7tl2NPGhcJ9Yjo9dQ/G0Z8wcLxZ54JkkRCBhIMFprpUYgUCJCzLMF8mZylCxMIKT+XzQPyMJzR+P7FypZ+ie7NhUAQnMQiMsuNWhIXogmQh29sED3YstIs+kvm4pmCipN5TbOMsi1Ijx7YODEClYYAO2YrrcW7QF9pYuI1JZj0r5x7xrWD1tjmwdfvT7nmi5MO0DuSdAFVGbLxoFkLZsxpaurTqwf6bnSv2d62CwRYoSoyPbu0hIITZc5iHX5gIOUyszuScjIDn+TSJB7KGGCdlEGFsyeskGjdVTiQk0SSWmetYWk+kgZQhIZyiVOJW2UhmoiS2aWdbMroBfcseWjhQAgSFab9ADZ5agBLtkCmHH8xAmWGAN/hZdag3arOYncLdbmffvLNIQcdFTIwLT4Rb21SnTR1pYqo69lgxiIogELoVwPXZ9DBdquIK1g5ZA22Jc+T+SAD4oNgMI/K5JUmqyvLRkueXuAcyJmXsrp0ZlFOni5STcl8nUXkXqYeOhSckjkpk59XOnMgL4d3GYHyQ4CtzPJr01WjkexfFUfRkmm7md4Z6fk2XuqBgBnQZPv8adN/EFpdVSwW3GHSoFk1gq3cVZakgF+qJ790/v4vnVMcxxbl+N8s+9JYtjgUZSkYgW5B4Df/zXSLVFxpcSKwBPEpzk67bXXzrVfNnj0npIUjVSEzgvAYa/bc5vF/u2KnXfY0NDNBFiaGzehc7mCLs11ZKkaAEVhOBJgylxMoLrYYAnIqhi7+OfHicNTZeL1tThr713i66Y57bj784BOGbbZrwvUvnHBJLKxEaJl2Shjr4rttMRD5JyPACJQWAtyJlVZ7FZ+0dY0vvDH1lJNPm/bpVwtb5t7z0J0fffLZH/c/8I0P3qjHWz88GgZEWKmMLCUrk2+44mtClogRYASWFwEey1xepLjcUhBwTGGFhamfc/4/z7mIjtNa5giNRWwmuNH32ztS0aoIxVqCONktSzBwYgQYgRJGgB/6S7jxCi+6Yl586vjXn5gi0sK1bd938cIPeqc0nLBYIkD1YrEI3qtFMwE5MQKMACNQ+ggwZZZ+GxZMA3oF4733/XvqB29imh/ed+H4abyH0gF7krWJhfOIQeGN5cifgjURX5gRYAS6FAGmzC6Fs+Iqc0aM2HTK688FeluWb7l4IxatxEZrmqqG6+Bd1Hj1pOdnJr1XHECsMCPACJQTAkyZ5dSaq1gXLDeamnjDRXPnf3fFP25wHIxpxkJalaHQwuUO2ZmYX+JouqLjtc08wWQVNw5fjhFgBLoBAQ7/6QZQK6hK7+HHHx621ebnnH/2Jf+cuNnGa+nwzmquK1zXck3TfOzRR5WIquHdU5wYAUaAESh9BJgyS78NC6GBdLT6vmW/P/UrLFzwu9E7tydd3fENLayoRJlOyIlFo7btRGjVPJ5bUohG4msyAoxAVyPAlNnViFZGfQpeRIxF2c3qiXc+INKuFYl5vhrOrSELfz9HyVbGncBaMgIVhQBTZkU1d9co6+I1mIqtYVUfzxKeKaLRYC4mxcl6dvCiKF/T8MKT3Ap7PGbeNdBzLYwAI1BQBJgyCwp/SV4cET0WInua5rdce91N777+QSptbzRsy7PPO6t3Q42gaSVkbKaSiUgkxkxZki3MQjMCjMAyEOA+bRnAcPbSEYDdmBJiQdt3H43YYruLLr5qxk/z29OJW66bsNE6q73/6XftIFNKSiQSDfb4kxFgBBiBskGAKbNsmrI7FYHdGGx0EQeseevEa+YtSDz99NvTvvrgvffemv3TtI02WPPAQ46JE2Vi8QKbBzO7sz24bkaAESgMAkyZhcG99K4K8xKbj/FLVSSsV/83ZffRh2+z68Y2eWGd2t49zj7vjNk/zV04R7hgTRXBQZwYAUaAESg3BJgyy61Fu0WfnJVJOyoWxZs3u3nDTYYbukjD5hSwKf2NNt2oR22PLz77StGFT5mcGAFGgBEoNwSYMsutRbtFH4S+BhtqB2VieQLFxJLrKU/Ukj2pe8Kq69GQTLQl21opbNbHxMxuEYQrZQQYAUaggAhwxGwBwS+dS2OSJc2zxGu9HBrUdFVF0+fP/fb9t2dUh1O6aLbtea4Tdu3kjz9+9d77UcdNxqKG4zhDNxyKNYCwZl7pqMqSMgKMACOwTASYMpcJDR9YBAE1GMwEa3rC1zpS6SsuPtX6+7mulxI+XpIZlA1NmHDWeec3+cgUon///m+99RY+ORRoEST5ByPACJQsAkyZJdt0hRIcL4+u6XH3w48mFL3D9apqeri+n7biruMJV9M1M1JtOo6bSnSEQqF+ffupeN80J0Zg+RDA8hfLV5BLMQKFQYApszC4l+BVwXxZ8jPMjXfeDS/LxAbbEwlGJrq67OGccsHB4DOXuUSp3JFf24nH43Dzuq5bxh1rOp2Gjr5PZjutspRNHhZYKscETaGvYRjhcBjPWLRilOfxY1Y5NnWZ6MSUWSYN2c1q5HhO7uR+/dJVu76Lx+CoZVkvvPCCrusgzl+6eOkfg4JmyMzpEZBo7mfZ7OTr1a9fP+jlI3hsuW6wssGAFSklBJT8W7aUBGdZiwOBfGJctKMLjgSfix7plHxZ+Z0l8vceeeSRP/3pT7BCkFmuhgi0g7GFv0o8HOQb02X/d7rppps+//zzjY2N0DSVSkWCN+DkNz/vMwJFgABTZhE0QimLsCop07btadOmtbS0wIkHi7OUYVum7CCM9vb2l19+ecCAAWCRXLlypUw8IuDhAG6DYcOG1dbWQt98TfMfGnJQ8A4jUEAEmDILCH45XPrXKPOXdVwxK/OX6+KjjAAjwAh0NwLcZ3U3wlw/I8AIMAKMQJkgwJRZJg3JajACjAAjwAh0NwJMmd2NMNfPCDACjAAjUCYI8FhmmTRksarxyxGzxSo1y8UIMAKMwNIQYCtzaahwHiPACDACjAAjsAQCTJlLQMIZjAAjwAgwAozA0hBgylwaKpzHCDACjAAjwAgsgQAvmLcEJJzRlQjwM1lXosl1MQKMQGER4B6tsPjz1RkBRoARYARKBgGmzJJpKhaUEWAEGAFGoLAIMGUWFn++OiPACDACjEDJIMCUWTJNxYIyAowAI8AIFBYBpszC4s9XZwQYAUaAESgZBJgyS6apWFBGgBFgBBiBwiLAlFlY/PnqjAAjwAgwAiWDAFNmyTQVC8oIMAKMACNQWASYMguLP1+dEWAEGAFGoGQQYMosmaZiQRkBRoARYAQKiwBTZmHx56szAowAI8AIlAwCTJkl01QsKCPACDACjEBhEWDKLCz+fHVGgBFgBBiBkkGAKbNkmooFZQQYAUaAESgsAkyZhcWfr84IMAKMACNQMggwZZZMU7GgjAAjwAgwAoVFgCmzsPjz1RkBRoARYARKBgGmzJJpKhaUEWAEGAFGoLAIMGUWFn++OiPACDACjEDJIMCUWTJNxYIyAowAI8AIFBYBpszC4s9XZwQYAUaAESgZBP4fVed7XGLvyEMAAAAASUVORK5CYII=)"
      ],
      "metadata": {
        "id": "P6FlAQJH5uUl"
      }
    },
    {
      "cell_type": "markdown",
      "source": [
        "**Evaluation of Bernoulli Naive Bayes classifier**"
      ],
      "metadata": {
        "id": "Onm5YUEV54-K"
      }
    },
    {
      "cell_type": "code",
      "source": [
        "# importing the required modules\n",
        "import seaborn as sns\n",
        "from sklearn.metrics import confusion_matrix\n",
        "\n",
        "# passing actual and predicted values\n",
        "cm = confusion_matrix(y_test, y_pred)\n",
        "\n",
        "# true write data values in each cell of the matrix\n",
        "sns.heatmap(cm, annot=True)\n",
        "#plt.savefig('confusion.png')"
      ],
      "metadata": {
        "colab": {
          "base_uri": "https://localhost:8080/",
          "height": 283
        },
        "id": "5cWQXMAT57RS",
        "outputId": "1de0e9dd-9fdc-4895-8551-8cdff20a2e29"
      },
      "execution_count": 10,
      "outputs": [
        {
          "output_type": "execute_result",
          "data": {
            "text/plain": [
              "<matplotlib.axes._subplots.AxesSubplot at 0x7fbd815febd0>"
            ]
          },
          "metadata": {},
          "execution_count": 10
        },
        {
          "output_type": "display_data",
          "data": {
            "text/plain": [
              "<Figure size 432x288 with 2 Axes>"
            ],
            "image/png": "[encoded data removed]"
          },
          "metadata": {
            "needs_background": "light"
          }
        }
      ]
    },
    {
      "cell_type": "markdown",
      "source": [
        "**Evaluation of Gaussian Naive Bayes Classifier**"
      ],
      "metadata": {
        "id": "dotOgzsa6Vd2"
      }
    },
    {
      "cell_type": "code",
      "source": [
        "# importing the required modules\n",
        "import seaborn as sns\n",
        "from sklearn.metrics import confusion_matrix\n",
        "\n",
        "# passing actual and predicted values\n",
        "cm = confusion_matrix(y_test, y_pred1)\n",
        "\n",
        "# true write data values in each cell of the matrix\n",
        "sns.heatmap(cm,annot=True)\n",
        "plt.savefig('confusion1.png')"
      ],
      "metadata": {
        "colab": {
          "base_uri": "https://localhost:8080/",
          "height": 265
        },
        "id": "K3h_LfVp6Xpq",
        "outputId": "3156af0f-518e-4470-c88c-05b400ea7eda"
      },
      "execution_count": 11,
      "outputs": [
        {
          "output_type": "display_data",
          "data": {
            "text/plain": [
              "<Figure size 432x288 with 2 Axes>"
            ],
            "image/png": "[encoded data removed]"
          },
          "metadata": {
            "needs_background": "light"
          }
        }
      ]
    },
    {
      "cell_type": "markdown",
      "source": [
        "================================================"
      ],
      "metadata": {
        "id": "J-ILg01g7E4-"
      }
    },
    {
      "cell_type": "markdown",
      "source": [
        "================================================"
      ],
      "metadata": {
        "id": "Y-TzKELK7KB7"
      }
    },
    {
      "cell_type": "markdown",
      "source": [
        "================================================"
      ],
      "metadata": {
        "id": "MmNFP9wl7NDE"
      }
    },
    {
      "cell_type": "markdown",
      "source": [
        "In real life, the data does not always consist of numeric values. For example, playing or not playing are not numeric values. In such scenarios, we need to convert the non-numeric data to numeric values before feeding data to our model. For example, we have the following dataset about whether players will play sport or not, depending on the weather and temperature."
      ],
      "metadata": {
        "id": "pyHVMpV27Nud"
      }
    },
    {
      "cell_type": "code",
      "source": [
        "# assigning features and label variables\n",
        "weather = ['Sunny','Sunny','Overcast','Rainy','Rainy','Rainy','Overcast','Sunny','Sunny', 'Rainy','Sunny','Overcast','Overcast','Rainy']\n",
        "\n",
        "# output class\n",
        "play = ['No','No','Yes','Yes','Yes','No','Yes','No','Yes','Yes','Yes','Yes','Yes','No']"
      ],
      "metadata": {
        "id": "Kd_yALlN7WSb"
      },
      "execution_count": 12,
      "outputs": []
    },
    {
      "cell_type": "markdown",
      "source": [
        "Note: the input and output both are not numeric values. Before feeding this data to our model, we have to encode the non-numeric values into numeric ones. for example, Overcast = 0, Rainy = 1, Sunny = 2. This is called label encoding."
      ],
      "metadata": {
        "id": "6pOzS8vh7ez8"
      }
    },
    {
      "cell_type": "code",
      "source": [
        "# Import LabelEncoder\n",
        "from sklearn import preprocessing\n",
        "\n",
        "# creating LabelEncoder\n",
        "labelCode = preprocessing.LabelEncoder()\n",
        "\n",
        "# Converting string labels into numbers.\n",
        "wheather_encoded =labelCode.fit_transform(weather)"
      ],
      "metadata": {
        "id": "trLu7LOU7f7K"
      },
      "execution_count": 20,
      "outputs": []
    },
    {
      "cell_type": "markdown",
      "source": [
        "The LabelEncoder will convert the string values to numeric values. For example, if we print the encoded weather, it will no longer contain numeric values."
      ],
      "metadata": {
        "id": "0ue9W-pb7ooK"
      }
    },
    {
      "cell_type": "code",
      "source": [
        "print(wheather_encoded)"
      ],
      "metadata": {
        "colab": {
          "base_uri": "https://localhost:8080/"
        },
        "id": "8M0uf1eR7t6w",
        "outputId": "79e34059-5067-4384-a44d-f7f6c4275628"
      },
      "execution_count": 21,
      "outputs": [
        {
          "output_type": "stream",
          "name": "stdout",
          "text": [
            "[2 2 0 1 1 1 0 2 2 1 2 0 0 1]\n"
          ]
        }
      ]
    },
    {
      "cell_type": "markdown",
      "source": [
        "**Similarly, we can also encode the play class.**"
      ],
      "metadata": {
        "id": "mOCJ8xsA8K8J"
      }
    },
    {
      "cell_type": "code",
      "source": [
        "# import LabelEncoder\n",
        "from sklearn import preprocessing\n",
        "\n",
        "# creating LabelEncoder\n",
        "labelCode = preprocessing.LabelEncoder()\n",
        "\n",
        "# converting string labels into numbers.\n",
        "label=labelCode.fit_transform(play)"
      ],
      "metadata": {
        "id": "zpslE2Gf8Mat"
      },
      "execution_count": 23,
      "outputs": []
    },
    {
      "cell_type": "markdown",
      "source": [
        "Generating model\n",
        "\n",
        "We have already seen that our input values are in a single-dimensional array. By default, the model training takes values in multi-dimensional arrays. If we feed the data without further changes, we will get the following error."
      ],
      "metadata": {
        "id": "eZ9snFs78VDd"
      }
    },
    {
      "cell_type": "code",
      "source": [
        "# import Gaussian Naive Bayes model\n",
        "from sklearn.naive_bayes import GaussianNB\n",
        "\n",
        "# create a Gaussian Classifier\n",
        "model = GaussianNB()\n",
        "\n",
        "# train the model using the training sets\n",
        "model.fit(wheather_encoded, label)"
      ],
      "metadata": {
        "id": "KpCl9LqJ8WQ2"
      },
      "execution_count": 25,
      "outputs": []
    },
    {
      "cell_type": "markdown",
      "source": [
        "So, we need to convert our data to the 2D array before feeding it to our model. Here we will use NumPy array and reshape() method to create a 2D array."
      ],
      "metadata": {
        "id": "3CkjgA6B8k0M"
      }
    },
    {
      "cell_type": "code",
      "source": [
        "# importing numpy module\n",
        "import numpy as np\n",
        "\n",
        "# converting 1D array to 2D\n",
        "weather_2d = np.reshape(wheather_encoded, (-1, 1))"
      ],
      "metadata": {
        "id": "JFG55Iwa8lue"
      },
      "execution_count": 27,
      "outputs": []
    },
    {
      "cell_type": "markdown",
      "source": [
        "**We can train our model using this data.**"
      ],
      "metadata": {
        "id": "w67r0i7L8uvX"
      }
    },
    {
      "cell_type": "code",
      "source": [
        "# import Gaussian Naive Bayes model\n",
        "from sklearn.naive_bayes import GaussianNB\n",
        "\n",
        "# create a Gaussian Classifier\n",
        "model = GaussianNB()\n",
        "\n",
        "# train the model using the training sets\n",
        "model.fit(weather_2d, label)"
      ],
      "metadata": {
        "colab": {
          "base_uri": "https://localhost:8080/"
        },
        "id": "5WYyTvVA8xJE",
        "outputId": "eaa68cba-825f-4912-ba84-a0f6d367ad80"
      },
      "execution_count": 28,
      "outputs": [
        {
          "output_type": "execute_result",
          "data": {
            "text/plain": [
              "GaussianNB()"
            ]
          },
          "metadata": {},
          "execution_count": 28
        }
      ]
    },
    {
      "cell_type": "markdown",
      "source": [
        "We had used the Gaussian Naive Bayes classifier to train our model. Let us predict the output by providing a testing input."
      ],
      "metadata": {
        "id": "lNJOLKkS88dp"
      }
    },
    {
      "cell_type": "code",
      "source": [
        "# predicting the odel\n",
        "predicted= model.predict([[0]]) # 0:Overcast\n",
        "\n",
        "# printing predicted value\n",
        "print(predicted)"
      ],
      "metadata": {
        "colab": {
          "base_uri": "https://localhost:8080/"
        },
        "id": "dLWtb9_289Zr",
        "outputId": "0172a9fd-e825-474d-b610-fec5b2b1a34a"
      },
      "execution_count": 29,
      "outputs": [
        {
          "output_type": "stream",
          "name": "stdout",
          "text": [
            "[1]\n"
          ]
        }
      ]
    },
    {
      "cell_type": "markdown",
      "source": [
        "**The output value 1 indicates that players will Play when there’s an Overcast weather.**"
      ],
      "metadata": {
        "id": "5VX4MI3f9ETH"
      }
    },
    {
      "cell_type": "markdown",
      "source": [
        "# Naive Bayes Classification with Multiple Labels\n",
        "\n",
        "**will learn about Naive Bayes classification for multiple labels.**\n",
        "\n",
        "For the training, we will use the built-in data set from the sklearn module named load_wine. This dataset results from a chemical analysis of wines grown in the same region in Italy but derived from three different cultivars.\n",
        "\n",
        "The dataset consists of 13 features (alcohol, malic_acid, ash, alcalinity_of_ash, magnesium, total_phenols, flavanoids, nonflavanoid_phenols, proanthocyanins, color_intensity, hue, od280/od315_of_diluted_wines, proline) and type of wine cultivar. This data has three types of wine Class_0, Class_1, and Class_3. We can build a model to classify the type of wine using Naive Bayes Classification."
      ],
      "metadata": {
        "id": "vDxIv8Oe9fcR"
      }
    },
    {
      "cell_type": "code",
      "source": [
        "# import scikit-learn dataset library\n",
        "from sklearn import datasets\n",
        "\n",
        "# load dataset\n",
        "dataset = datasets.load_wine()"
      ],
      "metadata": {
        "id": "lyF_m-S19xK7"
      },
      "execution_count": 30,
      "outputs": []
    },
    {
      "cell_type": "markdown",
      "source": [
        "we can print the input/features and target/output variables names to ensure the desired dataset."
      ],
      "metadata": {
        "id": "7Ij3gplF94_B"
      }
    },
    {
      "cell_type": "code",
      "source": [
        "# print the names of the 13 features\n",
        "print (\"Inputs: \", dataset.feature_names)\n",
        "\n",
        "# print the label type of wine\n",
        "print (\"Outputs: \", dataset.target_names)"
      ],
      "metadata": {
        "colab": {
          "base_uri": "https://localhost:8080/"
        },
        "id": "-J_KGyv395yq",
        "outputId": "e3863bea-6c91-4b28-daad-0c8d774e07af"
      },
      "execution_count": 31,
      "outputs": [
        {
          "output_type": "stream",
          "name": "stdout",
          "text": [
            "Inputs:  ['alcohol', 'malic_acid', 'ash', 'alcalinity_of_ash', 'magnesium', 'total_phenols', 'flavanoids', 'nonflavanoid_phenols', 'proanthocyanins', 'color_intensity', 'hue', 'od280/od315_of_diluted_wines', 'proline']\n",
            "Outputs:  ['class_0' 'class_1' 'class_2']\n"
          ]
        }
      ]
    },
    {
      "cell_type": "markdown",
      "source": [
        "We check the type of data (numeric/non-numeric) by printing three rows from the dataset."
      ],
      "metadata": {
        "id": "hN5RlDPt9_UH"
      }
    },
    {
      "cell_type": "code",
      "source": [
        "# print the wine data features\n",
        "print(dataset.data[0:3]) #top 3 rows"
      ],
      "metadata": {
        "id": "hrFyDFsw-ABt"
      },
      "execution_count": null,
      "outputs": []
    },
    {
      "cell_type": "markdown",
      "source": [
        "We can also check the output values to verify that it is a multi-class classification dataset."
      ],
      "metadata": {
        "id": "j6Lbbhez-Iu4"
      }
    },
    {
      "cell_type": "code",
      "source": [
        "# print the wine labels \n",
        "print(dataset.target)"
      ],
      "metadata": {
        "colab": {
          "base_uri": "https://localhost:8080/"
        },
        "id": "VkUsKP58-Jf_",
        "outputId": "97d93d3b-c44f-4a90-da93-c17e786e9933"
      },
      "execution_count": 32,
      "outputs": [
        {
          "output_type": "stream",
          "name": "stdout",
          "text": [
            "[0 0 0 0 0 0 0 0 0 0 0 0 0 0 0 0 0 0 0 0 0 0 0 0 0 0 0 0 0 0 0 0 0 0 0 0 0\n",
            " 0 0 0 0 0 0 0 0 0 0 0 0 0 0 0 0 0 0 0 0 0 0 1 1 1 1 1 1 1 1 1 1 1 1 1 1 1\n",
            " 1 1 1 1 1 1 1 1 1 1 1 1 1 1 1 1 1 1 1 1 1 1 1 1 1 1 1 1 1 1 1 1 1 1 1 1 1\n",
            " 1 1 1 1 1 1 1 1 1 1 1 1 1 1 1 1 1 1 1 2 2 2 2 2 2 2 2 2 2 2 2 2 2 2 2 2 2\n",
            " 2 2 2 2 2 2 2 2 2 2 2 2 2 2 2 2 2 2 2 2 2 2 2 2 2 2 2 2 2 2]\n"
          ]
        }
      ]
    },
    {
      "cell_type": "markdown",
      "source": [
        "# Training the model using multiclass labels\n",
        "\n",
        "Before feeding the dataset to our model, let us split the dataset into training and testing parts to evaluate our model by providing the testing dataset."
      ],
      "metadata": {
        "id": "GW7lby61-Pi5"
      }
    },
    {
      "cell_type": "code",
      "source": [
        "# import train_test_split function\n",
        "from sklearn.model_selection import train_test_split\n",
        "\n",
        "# input and outputs\n",
        "inputs = dataset.data\n",
        "outputs = dataset.target\n",
        "\n",
        "# split dataset into training set and test set\n",
        "X_train, X_test, y_train, y_test = train_test_split(inputs, outputs, test_size=0.3, random_state=1)"
      ],
      "metadata": {
        "id": "Novpqhg5-ROx"
      },
      "execution_count": 33,
      "outputs": []
    },
    {
      "cell_type": "markdown",
      "source": [
        "Once the splitting is complete, we can feed our model with the training data."
      ],
      "metadata": {
        "id": "19--jXP_-XfQ"
      }
    },
    {
      "cell_type": "code",
      "source": [
        "#Training the model\n",
        "# import Gaussian Naive Bayes model\n",
        "from sklearn.naive_bayes import GaussianNB\n",
        "\n",
        "# create a Gaussian Classifier\n",
        "classifer = GaussianNB()\n",
        "\n",
        "# train the model using the training sets\n",
        "classifer.fit(X_train, y_train)\n",
        "\n",
        "# predict the response for test dataset\n",
        "y_pred = classifer.predict(X_test)"
      ],
      "metadata": {
        "id": "1fyj5zPW-Zko"
      },
      "execution_count": 34,
      "outputs": []
    },
    {
      "cell_type": "markdown",
      "source": [
        "Note: we have used the Gaussian Naive Bayes classification method for the training.\n",
        "\n",
        "Let us now check the accuracy of our model:"
      ],
      "metadata": {
        "id": "GRjnY8Bx-idr"
      }
    },
    {
      "cell_type": "code",
      "source": [
        "# import scikit-learn metrics module for accuracy calculation\n",
        "from sklearn import metrics\n",
        "\n",
        "# printing accuracy\n",
        "print(\"Accuracy:\", metrics.accuracy_score(y_test, y_pred))"
      ],
      "metadata": {
        "colab": {
          "base_uri": "https://localhost:8080/"
        },
        "id": "cvt-Wu_8-mMv",
        "outputId": "199cc880-9acd-44af-ca4e-42bd550bf8f5"
      },
      "execution_count": 35,
      "outputs": [
        {
          "output_type": "stream",
          "name": "stdout",
          "text": [
            "Accuracy: 0.9814814814814815\n"
          ]
        }
      ]
    },
    {
      "cell_type": "markdown",
      "source": [
        "# Evaluation of Naive Bayes Classifier for Multiclassification"
      ],
      "metadata": {
        "id": "NpyleIQR-rfp"
      }
    },
    {
      "cell_type": "code",
      "source": [
        "# importing the required modules\n",
        "import seaborn as sns\n",
        "from sklearn.metrics import confusion_matrix\n",
        "\n",
        "# passing actual and predicted values\n",
        "cm = confusion_matrix(y_test, y_pred)\n",
        "\n",
        "# true Write data values in each cell of the matrix\n",
        "sns.heatmap(cm, annot=True)\n",
        "plt.savefig('confusion2.png')"
      ],
      "metadata": {
        "colab": {
          "base_uri": "https://localhost:8080/",
          "height": 265
        },
        "id": "8XaP2wVH-tTi",
        "outputId": "808528e9-f979-43d4-d561-ca3dbc384130"
      },
      "execution_count": 36,
      "outputs": [
        {
          "output_type": "display_data",
          "data": {
            "text/plain": [
              "<Figure size 432x288 with 2 Axes>"
            ],
            "image/png": "[encoded data removed]"
          },
          "metadata": {
            "needs_background": "light"
          }
        }
      ]
    }
  ]
}